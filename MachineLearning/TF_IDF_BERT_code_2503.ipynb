{
  "nbformat": 4,
  "nbformat_minor": 0,
  "metadata": {
    "colab": {
      "provenance": []
    },
    "kernelspec": {
      "name": "python3",
      "display_name": "Python 3"
    },
    "language_info": {
      "name": "python"
    }
  },
  "cells": [
    {
      "cell_type": "code",
      "source": [
        "!pip install torch\n",
        "!pip install transformers"
      ],
      "metadata": {
        "id": "39OCWJFpP7Ut"
      },
      "execution_count": null,
      "outputs": []
    },
    {
      "cell_type": "markdown",
      "source": [
        "#  Creating Knowlege-base and Queries"
      ],
      "metadata": {
        "id": "9QoIPRRb1ahp"
      }
    },
    {
      "cell_type": "code",
      "source": [
        "# Example usage\n",
        "# Enhanced knowledge base with more challenging questions\n",
        "# Expanded knowledge base with nuanced and potentially tricky questions\n",
        "knowledge_base = [\n",
        "    # Python basics\n",
        "    {'question': 'What is Python?',\n",
        "     'answer': 'Python is a high-level, interpreted programming language known for its readability and versatility.'},\n",
        "\n",
        "    {'question': 'What are Python libraries?',\n",
        "     'answer': 'Python libraries are collections of pre-written code that users can import and use in their programs.'},\n",
        "\n",
        "    # Specific technical concept\n",
        "    {'question': 'What is list comprehension in Python?',\n",
        "     'answer': 'List comprehension is a concise way to create lists in Python, allowing you to generate new lists based on existing lists or other iterable objects using a compact syntax.'},\n",
        "\n",
        "    # Specific programming concept\n",
        "    {'question': 'What is object-oriented programming?',\n",
        "     'answer': 'Object-oriented programming (OOP) is a programming paradigm that uses objects and classes to organize and structure code, focusing on creating reusable and modular software design.'},\n",
        "\n",
        "    # A tricky question with semantic nuance\n",
        "    {'question': 'Explain the concept of functional programming',\n",
        "     'answer': 'Functional programming is a programming paradigm that treats computation as the evaluation of mathematical functions, emphasizing immutable data, pure functions, and avoiding changing state and mutable data.'}\n",
        "]\n",
        "\n"
      ],
      "metadata": {
        "id": "uemA-PmnPaRv"
      },
      "execution_count": 24,
      "outputs": []
    },
    {
      "cell_type": "code",
      "source": [
        "# Queries to test Assistants.\n",
        "test_queries = [\n",
        "    \"Tell me about lists and tuples in Python\",\n",
        "    \"What are Python decorators and how do they work?\",\n",
        "    \"Explain the Global Interpreter Lock\",\n",
        "    \"How does Python manage memory?\",\n",
        "    \"What are lambda functions used for?\",\n",
        "    \"Tell me about creating lists in a pythonic way\",  # Should match list comprehension\n",
        "    \"What is programming that focuses on functions?\",  # Should match functional programming\n",
        "    \"Describe how to write modular code using objects\",  # Should match OOP\n",
        "\n",
        "    # A deliberately tricky query to test semantic matching\n",
        "    \"How do programmers create efficient and clean code structures?\"\n",
        "]\n",
        "\n"
      ],
      "metadata": {
        "id": "Oh2BOHa4TAj5"
      },
      "execution_count": 25,
      "outputs": []
    },
    {
      "cell_type": "markdown",
      "source": [
        "# **TF-IDF Assistant**"
      ],
      "metadata": {
        "id": "jiH5SYqK1E_Y"
      }
    },
    {
      "cell_type": "code",
      "source": [
        "import numpy as np\n",
        "import pandas as pd\n",
        "from sklearn.feature_extraction.text import TfidfVectorizer\n",
        "from sklearn.metrics.pairwise import cosine_similarity"
      ],
      "metadata": {
        "id": "zw0UshYnPR9U"
      },
      "execution_count": 26,
      "outputs": []
    },
    {
      "cell_type": "markdown",
      "source": [
        "#TF-IDF Class"
      ],
      "metadata": {
        "id": "3-eQBhklHxC2"
      }
    },
    {
      "cell_type": "markdown",
      "source": [],
      "metadata": {
        "id": "MoXNgDT8HP0T"
      }
    },
    {
      "cell_type": "code",
      "execution_count": 29,
      "metadata": {
        "id": "pT012ZmNLUFP"
      },
      "outputs": [],
      "source": [
        "# Class consisting of functions for TF-IDF Assistant\n",
        "class TFIDFAssistant:\n",
        "    def __init__(self, knowledge_base):\n",
        "        \"\"\"\n",
        "        Initialize the assistant with a knowledge base.\n",
        "\n",
        "        Parameters:\n",
        "        knowledge_base (list): List of dictionaries with 'question' and 'answer' keys\n",
        "        \"\"\"\n",
        "        self.questions = [item['question'] for item in knowledge_base]\n",
        "        self.answers = [item['answer'] for item in knowledge_base]\n",
        "\n",
        "        # Initialize and fit TF-IDF vectorizer\n",
        "        self.vectorizer = TfidfVectorizer(stop_words='english')\n",
        "        self.question_vectors = self.vectorizer.fit_transform(self.questions)\n",
        "\n",
        "    def answer(self, query, threshold=0.3):\n",
        "        \"\"\"\n",
        "        Find the most relevant answer to the query.\n",
        "\n",
        "        Parameters:\n",
        "        query (str): User's question\n",
        "        threshold (float): Minimum similarity score to return an answer\n",
        "\n",
        "        Returns:\n",
        "        str: Most relevant answer or a default message if no match found\n",
        "        \"\"\"\n",
        "        # Transform query to TF-IDF vector\n",
        "        query_vector = self.vectorizer.transform([query])\n",
        "\n",
        "        # Calculate cosine similarity between query and all questions\n",
        "        similarities = cosine_similarity(query_vector, self.question_vectors)[0]\n",
        "\n",
        "        # Find index of most similar question\n",
        "        best_match_idx = np.argmax(similarities)\n",
        "        best_match_score = similarities[best_match_idx]\n",
        "\n",
        "        if best_match_score >= threshold:\n",
        "            return {\n",
        "                'answer': self.answers[best_match_idx],\n",
        "                'matched_question': self.questions[best_match_idx],\n",
        "                'confidence': float(best_match_score)\n",
        "            }\n",
        "        else:\n",
        "            return {\n",
        "                'answer': \"I'm sorry, I don't have an answer for that question.\",\n",
        "                'matched_question': None,\n",
        "                'confidence': float(best_match_score)\n",
        "            }\n",
        "\n"
      ]
    },
    {
      "cell_type": "markdown",
      "source": [
        "#Testing TF-IDF Assistant with queries"
      ],
      "metadata": {
        "id": "6KvGMwPiImha"
      }
    },
    {
      "cell_type": "code",
      "source": [
        "print(\"TF-IDF Assistant Results:\")\n",
        "tfidf_assistant = TFIDFAssistant(knowledge_base)\n",
        "for query in test_queries:\n",
        "    result = tfidf_assistant.answer(query)\n",
        "    print(f\"\\nQuery: {query}\")\n",
        "    print(f\"Confidence: {result['confidence']:.2f}\")\n",
        "    print(f\"Matched Question: {result['matched_question']}\")\n",
        "    print(f\"Answer: {result['answer']}\")"
      ],
      "metadata": {
        "colab": {
          "base_uri": "https://localhost:8080/"
        },
        "id": "HbOE8cIf0xGA",
        "outputId": "29cd4285-8337-4541-8c9e-984506edd2a7"
      },
      "execution_count": 30,
      "outputs": [
        {
          "output_type": "stream",
          "name": "stdout",
          "text": [
            "TF-IDF Assistant Results:\n",
            "\n",
            "Query: Tell me about lists and tuples in Python\n",
            "Confidence: 1.00\n",
            "Matched Question: What is Python?\n",
            "Answer: Python is a high-level, interpreted programming language known for its readability and versatility.\n",
            "\n",
            "Query: What are Python decorators and how do they work?\n",
            "Confidence: 1.00\n",
            "Matched Question: What is Python?\n",
            "Answer: Python is a high-level, interpreted programming language known for its readability and versatility.\n",
            "\n",
            "Query: Explain the Global Interpreter Lock\n",
            "Confidence: 0.52\n",
            "Matched Question: Explain the concept of functional programming\n",
            "Answer: Functional programming is a programming paradigm that treats computation as the evaluation of mathematical functions, emphasizing immutable data, pure functions, and avoiding changing state and mutable data.\n",
            "\n",
            "Query: How does Python manage memory?\n",
            "Confidence: 1.00\n",
            "Matched Question: What is Python?\n",
            "Answer: Python is a high-level, interpreted programming language known for its readability and versatility.\n",
            "\n",
            "Query: What are lambda functions used for?\n",
            "Confidence: 0.00\n",
            "Matched Question: None\n",
            "Answer: I'm sorry, I don't have an answer for that question.\n",
            "\n",
            "Query: Tell me about creating lists in a pythonic way\n",
            "Confidence: 0.00\n",
            "Matched Question: None\n",
            "Answer: I'm sorry, I don't have an answer for that question.\n",
            "\n",
            "Query: What is programming that focuses on functions?\n",
            "Confidence: 0.50\n",
            "Matched Question: What is object-oriented programming?\n",
            "Answer: Object-oriented programming (OOP) is a programming paradigm that uses objects and classes to organize and structure code, focusing on creating reusable and modular software design.\n",
            "\n",
            "Query: Describe how to write modular code using objects\n",
            "Confidence: 0.00\n",
            "Matched Question: None\n",
            "Answer: I'm sorry, I don't have an answer for that question.\n",
            "\n",
            "Query: How do programmers create efficient and clean code structures?\n",
            "Confidence: 0.00\n",
            "Matched Question: None\n",
            "Answer: I'm sorry, I don't have an answer for that question.\n"
          ]
        }
      ]
    },
    {
      "cell_type": "markdown",
      "source": [],
      "metadata": {
        "id": "et2xvZ3M06dS"
      }
    },
    {
      "cell_type": "markdown",
      "source": [
        "# **BERT Assistant**"
      ],
      "metadata": {
        "id": "3qnpN_ER2B30"
      }
    },
    {
      "cell_type": "code",
      "source": [
        "import numpy as np\n",
        "import torch\n",
        "from transformers import BertTokenizer, BertModel\n",
        "from sklearn.metrics.pairwise import cosine_similarity"
      ],
      "metadata": {
        "id": "75qq7KXGMJ5e"
      },
      "execution_count": 19,
      "outputs": []
    },
    {
      "cell_type": "markdown",
      "source": [
        "#BERT Assistant Class"
      ],
      "metadata": {
        "id": "_ADE6ABvJUOi"
      }
    },
    {
      "cell_type": "code",
      "source": [
        "# Class consisting of functions for BERT Assistant\n",
        "class BERTAssistant:\n",
        "    def __init__(self, knowledge_base):\n",
        "        \"\"\"\n",
        "        Initialize the assistant with a knowledge base.\n",
        "\n",
        "        Parameters:\n",
        "        knowledge_base (list): List of dictionaries with 'question' and 'answer' keys\n",
        "        \"\"\"\n",
        "        self.questions = [item['question'] for item in knowledge_base]\n",
        "        self.answers = [item['answer'] for item in knowledge_base]\n",
        "\n",
        "        # Load pre-trained BERT model and tokenizer\n",
        "        self.tokenizer = BertTokenizer.from_pretrained('bert-base-uncased')\n",
        "        self.model = BertModel.from_pretrained('bert-base-uncased')\n",
        "\n",
        "        # Generate embeddings for all questions in the knowledge base\n",
        "        self.question_embeddings = self._encode_questions(self.questions)\n",
        "\n",
        "    def _encode_text(self, text):\n",
        "        \"\"\"\n",
        "        Generate BERT embedding for a single text.\n",
        "\n",
        "        Parameters:\n",
        "        text (str): Input text\n",
        "\n",
        "        Returns:\n",
        "        numpy.ndarray: BERT embedding vector\n",
        "        \"\"\"\n",
        "        # Tokenize input\n",
        "        inputs = self.tokenizer(text, return_tensors='pt', padding=True, truncation=True, max_length=128)\n",
        "\n",
        "        # Generate embeddings\n",
        "        with torch.no_grad():\n",
        "            outputs = self.model(**inputs)\n",
        "\n",
        "        # Use the [CLS] token embedding as the sentence representation\n",
        "        embedding = outputs.last_hidden_state[:, 0, :].numpy()\n",
        "        return embedding[0]\n",
        "\n",
        "    def _encode_questions(self, questions):\n",
        "        \"\"\"\n",
        "        Generate BERT embeddings for all questions.\n",
        "\n",
        "        Parameters:\n",
        "        questions (list): List of question strings\n",
        "\n",
        "        Returns:\n",
        "        numpy.ndarray: Matrix of question embeddings\n",
        "        \"\"\"\n",
        "        embeddings = []\n",
        "        for question in questions:\n",
        "            embedding = self._encode_text(question)\n",
        "            embeddings.append(embedding)\n",
        "        return np.array(embeddings)\n",
        "\n",
        "    def answer(self, query, threshold=0.7):\n",
        "        \"\"\"\n",
        "        Find the most relevant answer to the query.\n",
        "\n",
        "        Parameters:\n",
        "        query (str): User's question\n",
        "        threshold (float): Minimum similarity score to return an answer\n",
        "\n",
        "        Returns:\n",
        "        dict: Dictionary containing the answer, matched question, and confidence score\n",
        "        \"\"\"\n",
        "        # Generate embedding for the query\n",
        "        query_embedding = self._encode_text(query)\n",
        "\n",
        "        # Calculate cosine similarity between query and all questions\n",
        "        similarities = cosine_similarity([query_embedding], self.question_embeddings)[0]\n",
        "\n",
        "        # Find index of most similar question\n",
        "        best_match_idx = np.argmax(similarities)\n",
        "        best_match_score = similarities[best_match_idx]\n",
        "\n",
        "        if best_match_score >= threshold:\n",
        "            return {\n",
        "                'answer': self.answers[best_match_idx],\n",
        "                'matched_question': self.questions[best_match_idx],\n",
        "                'confidence': float(best_match_score)\n",
        "            }\n",
        "        else:\n",
        "            return {\n",
        "                'answer': \"I'm sorry, I don't have an answer for that question.\",\n",
        "                'matched_question': None,\n",
        "                'confidence': float(best_match_score)\n",
        "            }\n",
        "\n"
      ],
      "metadata": {
        "id": "TMwhF3O-L7Vi"
      },
      "execution_count": 20,
      "outputs": []
    },
    {
      "cell_type": "markdown",
      "source": [
        "#Testing Bert Assistant with Queries"
      ],
      "metadata": {
        "id": "xF3ZFPgEJn76"
      }
    },
    {
      "cell_type": "code",
      "source": [
        "# Use the same knowledge_base\n",
        "# Initialize and test the assistant\n",
        "bert_assistant = BERTAssistant(knowledge_base)\n",
        "\n",
        "# Test with various queries\n",
        "for query in test_queries:\n",
        "    result = bert_assistant.answer(query)\n",
        "    print(f\"Query: {query}\")\n",
        "    print(f\"Confidence: {result['confidence']:.2f}\")\n",
        "    print(f\"Matched Question: {result['matched_question']}\")\n",
        "    print(f\"Answer: {result['answer']}\")\n",
        "    print(\"-\" * 80)"
      ],
      "metadata": {
        "colab": {
          "base_uri": "https://localhost:8080/"
        },
        "id": "Tmni3-HCQ4l_",
        "outputId": "0ab08881-376a-454d-ed12-dbde111e19ce"
      },
      "execution_count": 21,
      "outputs": [
        {
          "output_type": "stream",
          "name": "stdout",
          "text": [
            "Query: Tell me about lists and tuples in Python\n",
            "Confidence: 0.92\n",
            "Matched Question: What is list comprehension in Python?\n",
            "Answer: List comprehension is a concise way to create lists in Python, allowing you to generate new lists based on existing lists or other iterable objects using a compact syntax.\n",
            "--------------------------------------------------------------------------------\n",
            "Query: What are Python decorators and how do they work?\n",
            "Confidence: 0.96\n",
            "Matched Question: What are Python libraries?\n",
            "Answer: Python libraries are collections of pre-written code that users can import and use in their programs.\n",
            "--------------------------------------------------------------------------------\n",
            "Query: Explain the Global Interpreter Lock\n",
            "Confidence: 0.91\n",
            "Matched Question: Explain the concept of functional programming\n",
            "Answer: Functional programming is a programming paradigm that treats computation as the evaluation of mathematical functions, emphasizing immutable data, pure functions, and avoiding changing state and mutable data.\n",
            "--------------------------------------------------------------------------------\n",
            "Query: How does Python manage memory?\n",
            "Confidence: 0.97\n",
            "Matched Question: What is list comprehension in Python?\n",
            "Answer: List comprehension is a concise way to create lists in Python, allowing you to generate new lists based on existing lists or other iterable objects using a compact syntax.\n",
            "--------------------------------------------------------------------------------\n",
            "Query: What are lambda functions used for?\n",
            "Confidence: 0.97\n",
            "Matched Question: What are Python libraries?\n",
            "Answer: Python libraries are collections of pre-written code that users can import and use in their programs.\n",
            "--------------------------------------------------------------------------------\n",
            "Query: Tell me about creating lists in a pythonic way\n",
            "Confidence: 0.92\n",
            "Matched Question: What is list comprehension in Python?\n",
            "Answer: List comprehension is a concise way to create lists in Python, allowing you to generate new lists based on existing lists or other iterable objects using a compact syntax.\n",
            "--------------------------------------------------------------------------------\n",
            "Query: What is programming that focuses on functions?\n",
            "Confidence: 0.98\n",
            "Matched Question: What is object-oriented programming?\n",
            "Answer: Object-oriented programming (OOP) is a programming paradigm that uses objects and classes to organize and structure code, focusing on creating reusable and modular software design.\n",
            "--------------------------------------------------------------------------------\n",
            "Query: Describe how to write modular code using objects\n",
            "Confidence: 0.94\n",
            "Matched Question: Explain the concept of functional programming\n",
            "Answer: Functional programming is a programming paradigm that treats computation as the evaluation of mathematical functions, emphasizing immutable data, pure functions, and avoiding changing state and mutable data.\n",
            "--------------------------------------------------------------------------------\n",
            "Query: How do programmers create efficient and clean code structures?\n",
            "Confidence: 0.95\n",
            "Matched Question: What are Python libraries?\n",
            "Answer: Python libraries are collections of pre-written code that users can import and use in their programs.\n",
            "--------------------------------------------------------------------------------\n"
          ]
        }
      ]
    },
    {
      "cell_type": "code",
      "source": [],
      "metadata": {
        "id": "yuCLkrw1RSCO"
      },
      "execution_count": null,
      "outputs": []
    }
  ]
}